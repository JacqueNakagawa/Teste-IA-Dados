{
 "cells": [
  {
   "cell_type": "code",
   "execution_count": 35,
   "id": "523e7e0e",
   "metadata": {},
   "outputs": [],
   "source": [
    "import pandas as pd\n",
    "from matplotlib import pyplot as plt\n",
    "import seaborn as sns\n",
    "#importando as bibliotecas utilizadas para leitura de dados e geração de gráficos\n",
    "\n",
    "pd.set_option('display.max_rows', None)\n",
    "pd.set_option('display.max_columns', None)\n",
    "pd.set_option('display.float_format', lambda x: '%.2f' % x)\n",
    "#configuração básica do pandas para os dados"
   ]
  },
  {
   "cell_type": "code",
   "execution_count": 36,
   "id": "8495e52a",
   "metadata": {},
   "outputs": [
    {
     "data": {
      "text/plain": [
       "(97712, 10)"
      ]
     },
     "execution_count": 36,
     "metadata": {},
     "output_type": "execute_result"
    }
   ],
   "source": [
    "carsdata = pd.read_csv('./CarsData.csv')\n",
    "carsdata.shape\n",
    "#lendo o arquivo da base e verificando quantidade de linhas e colunas"
   ]
  },
  {
   "cell_type": "code",
   "execution_count": 37,
   "id": "24c74ac8",
   "metadata": {},
   "outputs": [
    {
     "data": {
      "text/html": [
       "<div>\n",
       "<style scoped>\n",
       "    .dataframe tbody tr th:only-of-type {\n",
       "        vertical-align: middle;\n",
       "    }\n",
       "\n",
       "    .dataframe tbody tr th {\n",
       "        vertical-align: top;\n",
       "    }\n",
       "\n",
       "    .dataframe thead th {\n",
       "        text-align: right;\n",
       "    }\n",
       "</style>\n",
       "<table border=\"1\" class=\"dataframe\">\n",
       "  <thead>\n",
       "    <tr style=\"text-align: right;\">\n",
       "      <th></th>\n",
       "      <th>model</th>\n",
       "      <th>year</th>\n",
       "      <th>price</th>\n",
       "      <th>transmission</th>\n",
       "      <th>mileage</th>\n",
       "      <th>fuelType</th>\n",
       "      <th>tax</th>\n",
       "      <th>mpg</th>\n",
       "      <th>engineSize</th>\n",
       "      <th>Manufacturer</th>\n",
       "    </tr>\n",
       "  </thead>\n",
       "  <tbody>\n",
       "    <tr>\n",
       "      <th>0</th>\n",
       "      <td>I10</td>\n",
       "      <td>2017</td>\n",
       "      <td>7495</td>\n",
       "      <td>Manual</td>\n",
       "      <td>11630</td>\n",
       "      <td>Petrol</td>\n",
       "      <td>145</td>\n",
       "      <td>60.10</td>\n",
       "      <td>1.00</td>\n",
       "      <td>hyundi</td>\n",
       "    </tr>\n",
       "    <tr>\n",
       "      <th>1</th>\n",
       "      <td>Polo</td>\n",
       "      <td>2017</td>\n",
       "      <td>10989</td>\n",
       "      <td>Manual</td>\n",
       "      <td>9200</td>\n",
       "      <td>Petrol</td>\n",
       "      <td>145</td>\n",
       "      <td>58.90</td>\n",
       "      <td>1.00</td>\n",
       "      <td>volkswagen</td>\n",
       "    </tr>\n",
       "    <tr>\n",
       "      <th>2</th>\n",
       "      <td>2 Series</td>\n",
       "      <td>2019</td>\n",
       "      <td>27990</td>\n",
       "      <td>Semi-Auto</td>\n",
       "      <td>1614</td>\n",
       "      <td>Diesel</td>\n",
       "      <td>145</td>\n",
       "      <td>49.60</td>\n",
       "      <td>2.00</td>\n",
       "      <td>BMW</td>\n",
       "    </tr>\n",
       "    <tr>\n",
       "      <th>3</th>\n",
       "      <td>Yeti Outdoor</td>\n",
       "      <td>2017</td>\n",
       "      <td>12495</td>\n",
       "      <td>Manual</td>\n",
       "      <td>30960</td>\n",
       "      <td>Diesel</td>\n",
       "      <td>150</td>\n",
       "      <td>62.80</td>\n",
       "      <td>2.00</td>\n",
       "      <td>skoda</td>\n",
       "    </tr>\n",
       "    <tr>\n",
       "      <th>4</th>\n",
       "      <td>Fiesta</td>\n",
       "      <td>2017</td>\n",
       "      <td>7999</td>\n",
       "      <td>Manual</td>\n",
       "      <td>19353</td>\n",
       "      <td>Petrol</td>\n",
       "      <td>125</td>\n",
       "      <td>54.30</td>\n",
       "      <td>1.20</td>\n",
       "      <td>ford</td>\n",
       "    </tr>\n",
       "  </tbody>\n",
       "</table>\n",
       "</div>"
      ],
      "text/plain": [
       "           model  year  price transmission  mileage fuelType  tax   mpg  \\\n",
       "0            I10  2017   7495       Manual    11630   Petrol  145 60.10   \n",
       "1           Polo  2017  10989       Manual     9200   Petrol  145 58.90   \n",
       "2       2 Series  2019  27990    Semi-Auto     1614   Diesel  145 49.60   \n",
       "3   Yeti Outdoor  2017  12495       Manual    30960   Diesel  150 62.80   \n",
       "4         Fiesta  2017   7999       Manual    19353   Petrol  125 54.30   \n",
       "\n",
       "   engineSize Manufacturer  \n",
       "0        1.00       hyundi  \n",
       "1        1.00   volkswagen  \n",
       "2        2.00          BMW  \n",
       "3        2.00        skoda  \n",
       "4        1.20         ford  "
      ]
     },
     "execution_count": 37,
     "metadata": {},
     "output_type": "execute_result"
    }
   ],
   "source": [
    "carsdata.head()\n",
    "#Visualizando os dados - colunas e linhas"
   ]
  },
  {
   "cell_type": "code",
   "execution_count": 38,
   "id": "a02a5a32",
   "metadata": {},
   "outputs": [
    {
     "data": {
      "text/plain": [
       "Audi          10565\n",
       "BMW           10664\n",
       "ford          17811\n",
       "hyundi         4774\n",
       "merc          12860\n",
       "skoda          6188\n",
       "toyota         6699\n",
       "vauxhall      13258\n",
       "volkswagen    14893\n",
       "Name: Manufacturer, dtype: int64"
      ]
     },
     "execution_count": 38,
     "metadata": {},
     "output_type": "execute_result"
    }
   ],
   "source": [
    "carsdata['Manufacturer'].value_counts().sort_index()\n",
    "#Verificando se a coluna \"Manufacturer\" seria uma boa escolha para plotar um gráfico de barras"
   ]
  },
  {
   "cell_type": "code",
   "execution_count": 41,
   "id": "797ab3c3",
   "metadata": {},
   "outputs": [
    {
     "data": {
      "text/plain": [
       "<Axes: xlabel='Manufacturer', ylabel='count'>"
      ]
     },
     "execution_count": 41,
     "metadata": {},
     "output_type": "execute_result"
    },
    {
     "data": {
      "image/png": "[encoded data removed]",
      "text/plain": [
       "<Figure size 640x480 with 1 Axes>"
      ]
     },
     "metadata": {},
     "output_type": "display_data"
    }
   ],
   "source": [
    "sns.countplot(data=carsdata, x='Manufacturer')\n",
    "#plotando um gráfico de barras simples onde eixo x é a marca e o y é a quantidade"
   ]
  },
  {
   "cell_type": "code",
   "execution_count": null,
   "id": "d4d1c112",
   "metadata": {},
   "outputs": [],
   "source": []
  }
 ],
 "metadata": {
  "kernelspec": {
   "display_name": "Python 3 (ipykernel)",
   "language": "python",
   "name": "python3"
  },
  "language_info": {
   "codemirror_mode": {
    "name": "ipython",
    "version": 3
   },
   "file_extension": ".py",
   "mimetype": "text/x-python",
   "name": "python",
   "nbconvert_exporter": "python",
   "pygments_lexer": "ipython3",
   "version": "3.11.4"
  }
 },
 "nbformat": 4,
 "nbformat_minor": 5
}
